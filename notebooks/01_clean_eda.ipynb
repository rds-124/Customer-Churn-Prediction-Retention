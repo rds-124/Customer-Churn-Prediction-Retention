{
 "cells": [
  {
   "cell_type": "markdown",
   "id": "e82e848a",
   "metadata": {},
   "source": [
    "# Customer Churn Analysis – IBM Telco Dataset\n",
    "**Notebook 01: Data Cleaning & Exploratory Data Analysis (EDA)**\n",
    "\n",
    "- Load and inspect dataset\n",
    "- Handle missing values & type conversions\n",
    "- Feature engineering (tenure buckets, service counts, etc.)\n",
    "- Exploratory analysis: churn rates, drivers, risk factors\n",
    "\n"
   ]
  },
  {
   "cell_type": "markdown",
   "id": "450c89e3",
   "metadata": {},
   "source": [
    "**01: Import libraries**\n"
   ]
  },
  {
   "cell_type": "code",
   "execution_count": 5,
   "id": "7f2fe478",
   "metadata": {},
   "outputs": [],
   "source": [
    "import pandas as pd\n",
    "import numpy as np\n",
    "import matplotlib.pyplot as plt\n",
    "import seaborn as sns\n",
    "\n",
    "pd.set_option('display.max_columns', 50)"
   ]
  },
  {
   "cell_type": "markdown",
   "id": "33225e68",
   "metadata": {},
   "source": [
    "**02: Load dataset**"
   ]
  },
  {
   "cell_type": "code",
   "execution_count": 6,
   "id": "381150f4",
   "metadata": {},
   "outputs": [
    {
     "name": "stdout",
     "output_type": "stream",
     "text": [
      "Shape: (7043, 33)\n"
     ]
    },
    {
     "data": {
      "text/html": [
       "<div>\n",
       "<style scoped>\n",
       "    .dataframe tbody tr th:only-of-type {\n",
       "        vertical-align: middle;\n",
       "    }\n",
       "\n",
       "    .dataframe tbody tr th {\n",
       "        vertical-align: top;\n",
       "    }\n",
       "\n",
       "    .dataframe thead th {\n",
       "        text-align: right;\n",
       "    }\n",
       "</style>\n",
       "<table border=\"1\" class=\"dataframe\">\n",
       "  <thead>\n",
       "    <tr style=\"text-align: right;\">\n",
       "      <th></th>\n",
       "      <th>customerid</th>\n",
       "      <th>count</th>\n",
       "      <th>country</th>\n",
       "      <th>state</th>\n",
       "      <th>city</th>\n",
       "      <th>zip_code</th>\n",
       "      <th>lat_long</th>\n",
       "      <th>latitude</th>\n",
       "      <th>longitude</th>\n",
       "      <th>gender</th>\n",
       "      <th>senior_citizen</th>\n",
       "      <th>partner</th>\n",
       "      <th>dependents</th>\n",
       "      <th>tenure_months</th>\n",
       "      <th>phone_service</th>\n",
       "      <th>multiple_lines</th>\n",
       "      <th>internet_service</th>\n",
       "      <th>online_security</th>\n",
       "      <th>online_backup</th>\n",
       "      <th>device_protection</th>\n",
       "      <th>tech_support</th>\n",
       "      <th>streaming_tv</th>\n",
       "      <th>streaming_movies</th>\n",
       "      <th>contract</th>\n",
       "      <th>paperless_billing</th>\n",
       "      <th>payment_method</th>\n",
       "      <th>monthly_charges</th>\n",
       "      <th>total_charges</th>\n",
       "      <th>churn_label</th>\n",
       "      <th>churn_value</th>\n",
       "      <th>churn_score</th>\n",
       "      <th>cltv</th>\n",
       "      <th>churn_reason</th>\n",
       "    </tr>\n",
       "  </thead>\n",
       "  <tbody>\n",
       "    <tr>\n",
       "      <th>0</th>\n",
       "      <td>3668-QPYBK</td>\n",
       "      <td>1</td>\n",
       "      <td>United States</td>\n",
       "      <td>California</td>\n",
       "      <td>Los Angeles</td>\n",
       "      <td>90003</td>\n",
       "      <td>33.964131, -118.272783</td>\n",
       "      <td>33.964131</td>\n",
       "      <td>-118.272783</td>\n",
       "      <td>Male</td>\n",
       "      <td>No</td>\n",
       "      <td>No</td>\n",
       "      <td>No</td>\n",
       "      <td>2</td>\n",
       "      <td>Yes</td>\n",
       "      <td>No</td>\n",
       "      <td>DSL</td>\n",
       "      <td>Yes</td>\n",
       "      <td>Yes</td>\n",
       "      <td>No</td>\n",
       "      <td>No</td>\n",
       "      <td>No</td>\n",
       "      <td>No</td>\n",
       "      <td>Month-to-month</td>\n",
       "      <td>Yes</td>\n",
       "      <td>Mailed check</td>\n",
       "      <td>53.85</td>\n",
       "      <td>108.15</td>\n",
       "      <td>Yes</td>\n",
       "      <td>1</td>\n",
       "      <td>86</td>\n",
       "      <td>3239</td>\n",
       "      <td>Competitor made better offer</td>\n",
       "    </tr>\n",
       "    <tr>\n",
       "      <th>1</th>\n",
       "      <td>9237-HQITU</td>\n",
       "      <td>1</td>\n",
       "      <td>United States</td>\n",
       "      <td>California</td>\n",
       "      <td>Los Angeles</td>\n",
       "      <td>90005</td>\n",
       "      <td>34.059281, -118.30742</td>\n",
       "      <td>34.059281</td>\n",
       "      <td>-118.307420</td>\n",
       "      <td>Female</td>\n",
       "      <td>No</td>\n",
       "      <td>No</td>\n",
       "      <td>Yes</td>\n",
       "      <td>2</td>\n",
       "      <td>Yes</td>\n",
       "      <td>No</td>\n",
       "      <td>Fiber optic</td>\n",
       "      <td>No</td>\n",
       "      <td>No</td>\n",
       "      <td>No</td>\n",
       "      <td>No</td>\n",
       "      <td>No</td>\n",
       "      <td>No</td>\n",
       "      <td>Month-to-month</td>\n",
       "      <td>Yes</td>\n",
       "      <td>Electronic check</td>\n",
       "      <td>70.70</td>\n",
       "      <td>151.65</td>\n",
       "      <td>Yes</td>\n",
       "      <td>1</td>\n",
       "      <td>67</td>\n",
       "      <td>2701</td>\n",
       "      <td>Moved</td>\n",
       "    </tr>\n",
       "    <tr>\n",
       "      <th>2</th>\n",
       "      <td>9305-CDSKC</td>\n",
       "      <td>1</td>\n",
       "      <td>United States</td>\n",
       "      <td>California</td>\n",
       "      <td>Los Angeles</td>\n",
       "      <td>90006</td>\n",
       "      <td>34.048013, -118.293953</td>\n",
       "      <td>34.048013</td>\n",
       "      <td>-118.293953</td>\n",
       "      <td>Female</td>\n",
       "      <td>No</td>\n",
       "      <td>No</td>\n",
       "      <td>Yes</td>\n",
       "      <td>8</td>\n",
       "      <td>Yes</td>\n",
       "      <td>Yes</td>\n",
       "      <td>Fiber optic</td>\n",
       "      <td>No</td>\n",
       "      <td>No</td>\n",
       "      <td>Yes</td>\n",
       "      <td>No</td>\n",
       "      <td>Yes</td>\n",
       "      <td>Yes</td>\n",
       "      <td>Month-to-month</td>\n",
       "      <td>Yes</td>\n",
       "      <td>Electronic check</td>\n",
       "      <td>99.65</td>\n",
       "      <td>820.5</td>\n",
       "      <td>Yes</td>\n",
       "      <td>1</td>\n",
       "      <td>86</td>\n",
       "      <td>5372</td>\n",
       "      <td>Moved</td>\n",
       "    </tr>\n",
       "  </tbody>\n",
       "</table>\n",
       "</div>"
      ],
      "text/plain": [
       "   customerid  count        country       state         city  zip_code  \\\n",
       "0  3668-QPYBK      1  United States  California  Los Angeles     90003   \n",
       "1  9237-HQITU      1  United States  California  Los Angeles     90005   \n",
       "2  9305-CDSKC      1  United States  California  Los Angeles     90006   \n",
       "\n",
       "                 lat_long   latitude   longitude  gender senior_citizen  \\\n",
       "0  33.964131, -118.272783  33.964131 -118.272783    Male             No   \n",
       "1   34.059281, -118.30742  34.059281 -118.307420  Female             No   \n",
       "2  34.048013, -118.293953  34.048013 -118.293953  Female             No   \n",
       "\n",
       "  partner dependents  tenure_months phone_service multiple_lines  \\\n",
       "0      No         No              2           Yes             No   \n",
       "1      No        Yes              2           Yes             No   \n",
       "2      No        Yes              8           Yes            Yes   \n",
       "\n",
       "  internet_service online_security online_backup device_protection  \\\n",
       "0              DSL             Yes           Yes                No   \n",
       "1      Fiber optic              No            No                No   \n",
       "2      Fiber optic              No            No               Yes   \n",
       "\n",
       "  tech_support streaming_tv streaming_movies        contract  \\\n",
       "0           No           No               No  Month-to-month   \n",
       "1           No           No               No  Month-to-month   \n",
       "2           No          Yes              Yes  Month-to-month   \n",
       "\n",
       "  paperless_billing    payment_method  monthly_charges total_charges  \\\n",
       "0               Yes      Mailed check            53.85        108.15   \n",
       "1               Yes  Electronic check            70.70        151.65   \n",
       "2               Yes  Electronic check            99.65         820.5   \n",
       "\n",
       "  churn_label  churn_value  churn_score  cltv                  churn_reason  \n",
       "0         Yes            1           86  3239  Competitor made better offer  \n",
       "1         Yes            1           67  2701                         Moved  \n",
       "2         Yes            1           86  5372                         Moved  "
      ]
     },
     "execution_count": 6,
     "metadata": {},
     "output_type": "execute_result"
    }
   ],
   "source": [
    "df = pd.read_excel(\"../data/ibm_telco.xlsx\")\n",
    "df.columns = [c.strip().lower().replace(\" \", \"_\") for c in df.columns]\n",
    "\n",
    "print(\"Shape:\", df.shape)\n",
    "df.head(3)"
   ]
  },
  {
   "cell_type": "markdown",
   "id": "92a848d7",
   "metadata": {},
   "source": [
    "**03: Missing values & dtypes**"
   ]
  },
  {
   "cell_type": "code",
   "execution_count": 7,
   "id": "50d540e1",
   "metadata": {},
   "outputs": [
    {
     "name": "stdout",
     "output_type": "stream",
     "text": [
      "Missing values:\n",
      " churn_reason         5174\n",
      "online_security         0\n",
      "cltv                    0\n",
      "churn_score             0\n",
      "churn_value             0\n",
      "churn_label             0\n",
      "total_charges           0\n",
      "monthly_charges         0\n",
      "payment_method          0\n",
      "paperless_billing       0\n",
      "dtype: int64\n",
      "\n",
      "Data types:\n",
      " object     24\n",
      "int64       6\n",
      "float64     3\n",
      "Name: count, dtype: int64\n"
     ]
    }
   ],
   "source": [
    "print(\"Missing values:\\n\",df.isna().sum().sort_values(ascending= False).head(10))\n",
    "print(\"\\nData types:\\n\", df.dtypes.value_counts())"
   ]
  },
  {
   "cell_type": "markdown",
   "id": "dbbfe8f7",
   "metadata": {},
   "source": [
    "**04: Cleaning & feature engineering**"
   ]
  },
  {
   "cell_type": "code",
   "execution_count": 9,
   "id": "c9d08bc6",
   "metadata": {},
   "outputs": [],
   "source": [
    "# Standardize Churn Value\n",
    "df['churn_value'] = df['churn_value'].astype(int)\n",
    "\n",
    "# Convert to numeric values\n",
    "df['monthly_cahrges'] = pd.to_numeric(df['monthly_charges'], errors= 'coerce')    # Converts columns into proper numeric format.\n",
    "df['total_charges'] = pd.to_numeric(df['total_charges'], errors= 'coerce')        # errors='coerce' → replaces invalid entries (like blanks or text) with NaN.\n",
    "df['tenure_months'] = pd.to_numeric(df['tenure_months'], errors = 'coerce')\n",
    "\n",
    "# Impute the total charges if missing\n",
    "df['total_charges'] = df['total_charges'].fillna(df['monthly_charges'] * df['tenure_months'])\n",
    "\n",
    "# Tenure Buckets\n",
    "df['tenure_buckets'] = pd.cut(df['tenure_months'],\n",
    "                                bins = [-1, 3, 6, 12, 24, 48, 1000],\n",
    "                                labels = ['0-3', '4-6', '7-12', '13-24', '25-48', '49+'])       # Groups customers based on how long they’ve stayed\n",
    "                        \n",
    "# Servic count\n",
    "service_cols = ['phone_service', 'multiple_lines', 'online_security', 'online_backup',\n",
    "                'device_protection', 'tech_support', 'streaming_tv', 'streaming_movies']\n",
    "df['service_count'] = df[service_cols].apply(lambda r: (r== 'Yes').sum(), axis=1)      # Counts the number of services a customer has signed up for\n",
    "\n",
    "# Normailsed churn score\n",
    "df['churn_score_norm'] = df['churn_score'] / 100 # Normalizes the churn score to a 0-1 scale"
   ]
  },
  {
   "cell_type": "markdown",
   "id": "16a04e8c",
   "metadata": {},
   "source": [
    "**05: Churn overview**"
   ]
  },
  {
   "cell_type": "code",
   "execution_count": 16,
   "id": "cd3f32fe",
   "metadata": {},
   "outputs": [
    {
     "name": "stdout",
     "output_type": "stream",
     "text": [
      "Overall Churn rate: 26.54%\n",
      "\n",
      "Churn by Contract:\n",
      " contract\n",
      "Month-to-month    42.71%\n",
      "One year          11.27%\n",
      "Two year           2.83%\n",
      "Name: churn_value, dtype: object\n",
      "\n",
      "Churn by Tenure Bucket:\n",
      " tenure_buckets\n",
      "0-3      56.21%\n",
      "4-6      44.63%\n",
      "7-12     35.89%\n",
      "13-24    28.71%\n",
      "25-48    20.39%\n",
      "49+       9.51%\n",
      "Name: churn_value, dtype: object\n"
     ]
    }
   ],
   "source": [
    "# Overall churn\n",
    "overall_churn = df['churn_value'].mean() * 100\n",
    "print(f\"Overall Churn rate: {overall_churn:.2f}%\")\n",
    "\n",
    "# Churn by Contract\n",
    "churn_by_contract = df.groupby('contract')['churn_value'].mean() * 100\n",
    "print(\"\\nChurn by Contract:\\n\", churn_by_contract.round(2).astype(str) + '%')\n",
    "\n",
    "# Churn by Tenure Bucket\n",
    "churn_by_tenure = df.groupby('tenure_buckets', observed=False)['churn_value'].mean() * 100\n",
    "print(\"\\nChurn by Tenure Bucket:\\n\", churn_by_tenure.round(2).astype(str) + '%')"
   ]
  },
  {
   "cell_type": "markdown",
   "id": "ecb9c0ee",
   "metadata": {},
   "source": [
    "**06: Visuals**"
   ]
  },
  {
   "cell_type": "code",
   "execution_count": null,
   "id": "30763654",
   "metadata": {},
   "outputs": [
    {
     "data": {
      "image/png": "[encoded data removed]",
      "text/plain": [
       "<Figure size 640x480 with 1 Axes>"
      ]
     },
     "metadata": {},
     "output_type": "display_data"
    },
    {
     "data": {
      "image/png": "[encoded data removed]",
      "text/plain": [
       "<Figure size 640x480 with 1 Axes>"
      ]
     },
     "metadata": {},
     "output_type": "display_data"
    },
    {
     "data": {
      "image/png": "[encoded data removed]",
      "text/plain": [
       "<Figure size 640x480 with 1 Axes>"
      ]
     },
     "metadata": {},
     "output_type": "display_data"
    }
   ],
   "source": [
    "# Churn by Contract\n",
    "sns.barplot( data=df, x='contract', y = 'churn_value')\n",
    "plt.title(\"Churn Rate by Contract Type\")\n",
    "plt.xlabel(\"Contract Type\")\n",
    "plt.ylabel(\"Churn Rate (%)\")\n",
    "plt.show()\n",
    "\n",
    "# Churn by Tenure Bucket\n",
    "sns.lineplot(data=df, x='tenure_buckets', y='churn_value', estimator='mean')\n",
    "plt.title(\"Churn Rate by Tenure Bucket\")\n",
    "plt.xlabel(\"Tenure Bucket (Months)\")\n",
    "plt.ylabel(\"Churn Rate (%)\")\n",
    "plt.show()\n",
    "\n",
    "# Churn vs Monthly Charges\n",
    "sns.boxplot(data=df, x='churn_value', y='monthly_charges')\n",
    "plt.title(\"Churn vs Monthly Charges\")\n",
    "plt.xlabel(\"Churn Value\")\n",
    "plt.ylabel(\"Monthly Charges ()\")\n",
    "plt.show()"
   ]
  },
  {
   "cell_type": "markdown",
   "id": "48812d88",
   "metadata": {},
   "source": [
    "**07: Drivers summary**"
   ]
  },
  {
   "cell_type": "code",
   "execution_count": 39,
   "id": "c5c4a6ba",
   "metadata": {},
   "outputs": [
    {
     "name": "stdout",
     "output_type": "stream",
     "text": [
      "== internet_service\n",
      "internet_service\n",
      "Fiber optic    41.89%\n",
      "DSL            18.96%\n",
      "No               7.4%\n",
      "Name: churn_value, dtype: object\n",
      "== payment_method\n",
      "payment_method\n",
      "Electronic check             45.29%\n",
      "Mailed check                 19.11%\n",
      "Bank transfer (automatic)    16.71%\n",
      "Credit card (automatic)      15.24%\n",
      "Name: churn_value, dtype: object\n",
      "== online_security\n",
      "online_security\n",
      "No                     41.77%\n",
      "Yes                    14.61%\n",
      "No internet service      7.4%\n",
      "Name: churn_value, dtype: object\n",
      "== tech_support\n",
      "tech_support\n",
      "No                     41.64%\n",
      "Yes                    15.17%\n",
      "No internet service      7.4%\n",
      "Name: churn_value, dtype: object\n"
     ]
    }
   ],
   "source": [
    "drivers = ['internet_service', 'payment_method', 'online_security', 'tech_support']\n",
    "\n",
    "for d in drivers:\n",
    "    print(\"==\", d)\n",
    "    churn_rates = df.groupby(d)['churn_value'].mean().sort_values(ascending=False) * 100\n",
    "    print(churn_rates.round(2).astype(str) + \"%\")"
   ]
  },
  {
   "cell_type": "markdown",
   "id": "b25c66e5",
   "metadata": {},
   "source": [
    "### 🔹 Service Features Driving Churn\n",
    "- Customers **without Online Security or Tech Support** churn at a much higher rate.  \n",
    "- Fiber Optic customers tend to churn more compared to DSL.  \n",
    "- Customers paying via **Electronic Check** have significantly higher churn.  \n",
    "\n",
    "**Interpretation:** Add-on services and payment method are key retention levers.  \n",
    "**Business insight:** Bundling security/tech support with Internet plans and nudging customers to auto-pay can reduce churn.\n"
   ]
  },
  {
   "cell_type": "markdown",
   "id": "50b16223",
   "metadata": {},
   "source": [
    "**08: Save cleaned data**"
   ]
  },
  {
   "cell_type": "code",
   "execution_count": 27,
   "id": "3ea99bb8",
   "metadata": {},
   "outputs": [
    {
     "name": "stdout",
     "output_type": "stream",
     "text": [
      "Cleaned dataset saved. Rows: 7043\n"
     ]
    }
   ],
   "source": [
    "df.to_csv(\"../data/ibm_telco_cleaned.csv\", index=False)\n",
    "print(\"Cleaned dataset saved. Rows:\", len(df))"
   ]
  }
 ],
 "metadata": {
  "kernelspec": {
   "display_name": "Python 3",
   "language": "python",
   "name": "python3"
  },
  "language_info": {
   "codemirror_mode": {
    "name": "ipython",
    "version": 3
   },
   "file_extension": ".py",
   "mimetype": "text/x-python",
   "name": "python",
   "nbconvert_exporter": "python",
   "pygments_lexer": "ipython3",
   "version": "3.11.7"
  }
 },
 "nbformat": 4,
 "nbformat_minor": 5
}
