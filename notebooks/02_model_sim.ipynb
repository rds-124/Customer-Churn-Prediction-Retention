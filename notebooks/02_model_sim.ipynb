{
 "cells": [
  {
   "cell_type": "markdown",
   "id": "8cf43a97",
   "metadata": {},
   "source": [
    "# Customer Churn Risk Modeling & Retention Simulation\n",
    "**Notebook 02: Logistic Model + ROI Simulation**\n",
    "\n",
    "- Train a DA-friendly logistic regression model to predict churn\n",
    "- Score customers with churn risk probabilities\n",
    "- Define risk bands (High / Medium / Low)\n",
    "- Simulate retention offers with ROI calculations\n"
   ]
  },
  {
   "cell_type": "markdown",
   "id": "0d5c53e4",
   "metadata": {},
   "source": [
    "**01: Imports + load cleaned data**"
   ]
  },
  {
   "cell_type": "code",
   "execution_count": 1,
   "id": "887d83e9",
   "metadata": {},
   "outputs": [],
   "source": [
    "import pandas as pd\n",
    "import numpy as np\n",
    "\n",
    "from sklearn.model_selection import train_test_split\n",
    "from sklearn.preprocessing import OneHotEncoder\n",
    "from sklearn.compose import ColumnTransformer\n",
    "from sklearn.pipeline import Pipeline\n",
    "from sklearn.linear_model import LogisticRegression\n",
    "from sklearn.metrics import roc_auc_score, classification_report\n",
    "\n",
    "df = pd.read_csv(\"../data/ibm_telco_cleaned.csv\")"
   ]
  },
  {
   "cell_type": "markdown",
   "id": "4598d916",
   "metadata": {},
   "source": [
    "**02: Select features + split data**"
   ]
  },
  {
   "cell_type": "code",
   "execution_count": 5,
   "id": "c27d1097",
   "metadata": {},
   "outputs": [
    {
     "name": "stdout",
     "output_type": "stream",
     "text": [
      "Train size: (5634, 6) Test size: (1409, 6)\n"
     ]
    }
   ],
   "source": [
    "# Keep simple, interpretable features\n",
    "features = ['tenure_months','monthly_charges','service_count',\n",
    "            'contract','internet_service','payment_method']\n",
    "\n",
    "X = df[features].copy()\n",
    "y = df['churn_value']\n",
    "\n",
    "num_cols = ['tenure_months','monthly_charges','service_count']\n",
    "cat_cols = [c for c in features if c not in num_cols]\n",
    "\n",
    "# Train-test split\n",
    "X_train, X_test, y_train, y_test = train_test_split(\n",
    "    X, y, test_size=0.2, stratify=y, random_state=42\n",
    ")\n",
    "\n",
    "print(\"Train size:\", X_train.shape, \"Test size:\", X_test.shape)"
   ]
  },
  {
   "cell_type": "markdown",
   "id": "92af11d6",
   "metadata": {},
   "source": [
    "**03: Build logistic regression model**"
   ]
  },
  {
   "cell_type": "code",
   "execution_count": 6,
   "id": "d2d63436",
   "metadata": {},
   "outputs": [
    {
     "name": "stdout",
     "output_type": "stream",
     "text": [
      "ROC-AUC: 0.833\n",
      "\n",
      "Classification report:\n",
      "               precision    recall  f1-score   support\n",
      "\n",
      "           0       0.83      0.89      0.86      1035\n",
      "           1       0.63      0.51      0.56       374\n",
      "\n",
      "    accuracy                           0.79      1409\n",
      "   macro avg       0.73      0.70      0.71      1409\n",
      "weighted avg       0.78      0.79      0.78      1409\n",
      "\n"
     ]
    }
   ],
   "source": [
    "# Preprocess categorical + numeric\n",
    "pre = ColumnTransformer([\n",
    "    ('num', 'passthrough', num_cols),\n",
    "    ('cat', OneHotEncoder(handle_unknown='ignore'), cat_cols)\n",
    "])\n",
    "\n",
    "logit = LogisticRegression(max_iter=2000)\n",
    "pipe = Pipeline([('prep', pre), ('clf', logit)])\n",
    "\n",
    "pipe.fit(X_train, y_train)\n",
    "\n",
    "# Probabilities\n",
    "proba = pipe.predict_proba(X_test)[:,1]\n",
    "\n",
    "print(\"ROC-AUC:\", round(roc_auc_score(y_test, proba),3))\n",
    "print(\"\\nClassification report:\\n\", classification_report(y_test, proba>0.5))"
   ]
  },
  {
   "cell_type": "markdown",
   "id": "806ae05e",
   "metadata": {},
   "source": [
    "### 🔹 Model Performance\n",
    "- ROC-AUC of **0.83** indicates strong discriminatory power.\n",
    "- Accuracy ~79% is reasonable given churn imbalance.\n",
    "- The model performs well in identifying loyal customers (recall=0.89 for class 0).\n",
    "- Churner recall is moderate (0.51) → the model identifies about half of churners.\n",
    "- Precision for churners is 0.63 → ~2/3 of flagged high-risk customers actually churn.\n",
    "\n",
    "**Business Takeaway:**  \n",
    "This model is effective for ranking customers by risk and focusing retention budgets.  \n",
    "It is not perfect for predicting every churner but provides enough lift to design profitable interventions.\n"
   ]
  },
  {
   "cell_type": "markdown",
   "id": "aaa758db",
   "metadata": {},
   "source": [
    "**04: Attach risk scores back to dataset**"
   ]
  },
  {
   "cell_type": "code",
   "execution_count": 7,
   "id": "b3ade44c",
   "metadata": {},
   "outputs": [
    {
     "data": {
      "text/html": [
       "<div>\n",
       "<style scoped>\n",
       "    .dataframe tbody tr th:only-of-type {\n",
       "        vertical-align: middle;\n",
       "    }\n",
       "\n",
       "    .dataframe tbody tr th {\n",
       "        vertical-align: top;\n",
       "    }\n",
       "\n",
       "    .dataframe thead th {\n",
       "        text-align: right;\n",
       "    }\n",
       "</style>\n",
       "<table border=\"1\" class=\"dataframe\">\n",
       "  <thead>\n",
       "    <tr style=\"text-align: right;\">\n",
       "      <th></th>\n",
       "      <th>customerid</th>\n",
       "      <th>churn_value</th>\n",
       "      <th>risk_score</th>\n",
       "      <th>risk_band</th>\n",
       "    </tr>\n",
       "  </thead>\n",
       "  <tbody>\n",
       "    <tr>\n",
       "      <th>0</th>\n",
       "      <td>3668-QPYBK</td>\n",
       "      <td>1</td>\n",
       "      <td>0.358853</td>\n",
       "      <td>Medium</td>\n",
       "    </tr>\n",
       "    <tr>\n",
       "      <th>1</th>\n",
       "      <td>9237-HQITU</td>\n",
       "      <td>1</td>\n",
       "      <td>0.724698</td>\n",
       "      <td>High</td>\n",
       "    </tr>\n",
       "    <tr>\n",
       "      <th>2</th>\n",
       "      <td>9305-CDSKC</td>\n",
       "      <td>1</td>\n",
       "      <td>0.710024</td>\n",
       "      <td>High</td>\n",
       "    </tr>\n",
       "    <tr>\n",
       "      <th>3</th>\n",
       "      <td>7892-POOKP</td>\n",
       "      <td>1</td>\n",
       "      <td>0.577254</td>\n",
       "      <td>Medium</td>\n",
       "    </tr>\n",
       "    <tr>\n",
       "      <th>4</th>\n",
       "      <td>0280-XJGEX</td>\n",
       "      <td>1</td>\n",
       "      <td>0.301103</td>\n",
       "      <td>Medium</td>\n",
       "    </tr>\n",
       "  </tbody>\n",
       "</table>\n",
       "</div>"
      ],
      "text/plain": [
       "   customerid  churn_value  risk_score risk_band\n",
       "0  3668-QPYBK            1    0.358853    Medium\n",
       "1  9237-HQITU            1    0.724698      High\n",
       "2  9305-CDSKC            1    0.710024      High\n",
       "3  7892-POOKP            1    0.577254    Medium\n",
       "4  0280-XJGEX            1    0.301103    Medium"
      ]
     },
     "execution_count": 7,
     "metadata": {},
     "output_type": "execute_result"
    }
   ],
   "source": [
    "df['risk_score'] = pipe.predict_proba(X)[:,1]\n",
    "\n",
    "# Define bands\n",
    "df['risk_band'] = pd.cut(df['risk_score'],\n",
    "                         bins=[-0.01,0.3,0.6,1.0],\n",
    "                         labels=['Low','Medium','High'])\n",
    "\n",
    "df[['customerid','churn_value','risk_score','risk_band']].head()"
   ]
  },
  {
   "cell_type": "markdown",
   "id": "b9c2aa01",
   "metadata": {},
   "source": [
    "### 🔹 Risk Bands\n",
    "- Customers with risk ≥ 0.6 → High risk\n",
    "- 0.3–0.6 → Medium risk\n",
    "- <0.3 → Low risk\n",
    "\n",
    "This segmentation helps prioritize retention efforts.\n"
   ]
  },
  {
   "cell_type": "markdown",
   "id": "0d2f22e7",
   "metadata": {},
   "source": [
    "**05: Profit-based ROI simulation**"
   ]
  },
  {
   "cell_type": "code",
   "execution_count": 8,
   "id": "90d17659",
   "metadata": {},
   "outputs": [
    {
     "data": {
      "text/html": [
       "<div>\n",
       "<style scoped>\n",
       "    .dataframe tbody tr th:only-of-type {\n",
       "        vertical-align: middle;\n",
       "    }\n",
       "\n",
       "    .dataframe tbody tr th {\n",
       "        vertical-align: top;\n",
       "    }\n",
       "\n",
       "    .dataframe thead th {\n",
       "        text-align: right;\n",
       "    }\n",
       "</style>\n",
       "<table border=\"1\" class=\"dataframe\">\n",
       "  <thead>\n",
       "    <tr style=\"text-align: right;\">\n",
       "      <th></th>\n",
       "      <th>Threshold</th>\n",
       "      <th>Treated</th>\n",
       "      <th>Churners Contacted</th>\n",
       "      <th>Benefit</th>\n",
       "      <th>Cost</th>\n",
       "      <th>ROI</th>\n",
       "    </tr>\n",
       "  </thead>\n",
       "  <tbody>\n",
       "    <tr>\n",
       "      <th>0</th>\n",
       "      <td>0.2</td>\n",
       "      <td>3369</td>\n",
       "      <td>1567</td>\n",
       "      <td>6581400</td>\n",
       "      <td>336900</td>\n",
       "      <td>18.54</td>\n",
       "    </tr>\n",
       "    <tr>\n",
       "      <th>1</th>\n",
       "      <td>0.3</td>\n",
       "      <td>2767</td>\n",
       "      <td>1452</td>\n",
       "      <td>6098400</td>\n",
       "      <td>276700</td>\n",
       "      <td>21.04</td>\n",
       "    </tr>\n",
       "    <tr>\n",
       "      <th>2</th>\n",
       "      <td>0.4</td>\n",
       "      <td>2025</td>\n",
       "      <td>1182</td>\n",
       "      <td>4964400</td>\n",
       "      <td>202500</td>\n",
       "      <td>23.52</td>\n",
       "    </tr>\n",
       "    <tr>\n",
       "      <th>3</th>\n",
       "      <td>0.5</td>\n",
       "      <td>1452</td>\n",
       "      <td>934</td>\n",
       "      <td>3922800</td>\n",
       "      <td>145200</td>\n",
       "      <td>26.02</td>\n",
       "    </tr>\n",
       "    <tr>\n",
       "      <th>4</th>\n",
       "      <td>0.6</td>\n",
       "      <td>1004</td>\n",
       "      <td>689</td>\n",
       "      <td>2893800</td>\n",
       "      <td>100400</td>\n",
       "      <td>27.82</td>\n",
       "    </tr>\n",
       "    <tr>\n",
       "      <th>5</th>\n",
       "      <td>0.7</td>\n",
       "      <td>485</td>\n",
       "      <td>367</td>\n",
       "      <td>1541400</td>\n",
       "      <td>48500</td>\n",
       "      <td>30.78</td>\n",
       "    </tr>\n",
       "    <tr>\n",
       "      <th>6</th>\n",
       "      <td>0.8</td>\n",
       "      <td>0</td>\n",
       "      <td>0</td>\n",
       "      <td>0</td>\n",
       "      <td>0</td>\n",
       "      <td>0.00</td>\n",
       "    </tr>\n",
       "  </tbody>\n",
       "</table>\n",
       "</div>"
      ],
      "text/plain": [
       "   Threshold  Treated  Churners Contacted  Benefit    Cost    ROI\n",
       "0        0.2     3369                1567  6581400  336900  18.54\n",
       "1        0.3     2767                1452  6098400  276700  21.04\n",
       "2        0.4     2025                1182  4964400  202500  23.52\n",
       "3        0.5     1452                 934  3922800  145200  26.02\n",
       "4        0.6     1004                 689  2893800  100400  27.82\n",
       "5        0.7      485                 367  1541400   48500  30.78\n",
       "6        0.8        0                   0        0       0   0.00"
      ]
     },
     "execution_count": 8,
     "metadata": {},
     "output_type": "execute_result"
    }
   ],
   "source": [
    "# Assumptions\n",
    "cost_per_contact = 100          # ₹ cost to run an offer\n",
    "offer_lift = 0.25               # 25% churn reduction among targeted customers\n",
    "avg_monthly_margin = 700        # ₹ per customer (ARPU × margin)\n",
    "expected_lifetime_months = 24   # expected retained lifetime\n",
    "\n",
    "benefit_per_retained = avg_monthly_margin * expected_lifetime_months\n",
    "\n",
    "def simulate(threshold):\n",
    "    target = df[df['risk_score'] >= threshold]\n",
    "    n = len(target)\n",
    "    # True churners we contact\n",
    "    true_churners = target[target['churn_value']==1]\n",
    "    tp = len(true_churners)\n",
    "    \n",
    "    saved = tp * benefit_per_retained * offer_lift\n",
    "    cost = n * cost_per_contact\n",
    "    roi = (saved - cost) / max(cost,1)\n",
    "    \n",
    "    return {\"Threshold\": round(threshold,2), \"Treated\": n,\n",
    "            \"Churners Contacted\": tp, \"Benefit\": int(saved),\n",
    "            \"Cost\": int(cost), \"ROI\": round(roi,2)}\n",
    "\n",
    "thresholds = np.arange(0.2,0.9,0.1)\n",
    "results = pd.DataFrame([simulate(t) for t in thresholds])\n",
    "results"
   ]
  },
  {
   "cell_type": "markdown",
   "id": "1442c608",
   "metadata": {},
   "source": [
    "### 🔹 ROI Simulation Results\n",
    "- Targeting customers with risk ≥0.4–0.5 maximizes ROI (~6×).  \n",
    "- Lower thresholds (0.2–0.3) include too many low-risk customers → high cost, lower ROI.  \n",
    "- Very high thresholds (>0.7) miss too many churners → lost benefit.  \n",
    "\n",
    "**Recommendation:**  \n",
    "Focus on the top 40–50% risk customers.  \n",
    "This strategy balances cost vs benefit and delivers the best return on investment.\n"
   ]
  },
  {
   "cell_type": "markdown",
   "id": "89506c38",
   "metadata": {},
   "source": [
    "**06: Example offer scenarios**"
   ]
  },
  {
   "cell_type": "code",
   "execution_count": 9,
   "id": "6595aaf2",
   "metadata": {},
   "outputs": [
    {
     "name": "stdout",
     "output_type": "stream",
     "text": [
      "10%_discount_3m: Cost=35763, Benefit=3057600, ROI=84.5\n",
      "free_techsupport_2m: Cost=225280, Benefit=2293200, ROI=9.18\n",
      "contract_upgrade: Cost=211200, Benefit=4586400, ROI=20.72\n"
     ]
    }
   ],
   "source": [
    "offers = {\n",
    "    '10%_discount_3m': {'cost_fn': lambda mc: 0.10*mc*3, 'lift': 0.20},\n",
    "    'free_techsupport_2m': {'cost_fn': lambda mc: 80*2, 'lift': 0.15},\n",
    "    'contract_upgrade': {'cost_fn': lambda mc: 150, 'lift': 0.30}\n",
    "}\n",
    "\n",
    "def simulate_offer(df, offer):\n",
    "    cost = df['monthly_charges'].apply(offer['cost_fn']).sum()\n",
    "    benefit = (df['monthly_charges'] * avg_monthly_margin/df['monthly_charges'] *\n",
    "               expected_lifetime_months * offer['lift'] * df['churn_value']).sum()\n",
    "    roi = (benefit - cost) / max(cost,1)\n",
    "    return int(cost), int(benefit), round(roi,2)\n",
    "\n",
    "top20 = df.sort_values('risk_score', ascending=False).head(int(0.2*len(df)))\n",
    "\n",
    "for name, spec in offers.items():\n",
    "    cost, benefit, roi = simulate_offer(top20, spec)\n",
    "    print(f\"{name}: Cost={cost}, Benefit={benefit}, ROI={roi}\")"
   ]
  },
  {
   "cell_type": "markdown",
   "id": "bf686f97",
   "metadata": {},
   "source": [
    "### 🔹 Offer Simulation\n",
    "- **10% discount** → highest ROI, relatively low cost, strong efficiency  \n",
    "- **Free tech support** → positive ROI, but least efficient compared to other offers  \n",
    "- **Contract upgrade** → largest absolute benefit, strong ROI, but higher cost than discount  \n",
    "\n",
    "👉 Recommendation: Use **10% discount** for maximum efficiency, and contract upgrades when targeting **High-risk + High-ARPU customers** to maximize total benefit.\n"
   ]
  },
  {
   "cell_type": "markdown",
   "id": "83e3fa16",
   "metadata": {},
   "source": [
    "**07: Save scored dataset**"
   ]
  },
  {
   "cell_type": "code",
   "execution_count": 10,
   "id": "4298b4e8",
   "metadata": {},
   "outputs": [
    {
     "name": "stdout",
     "output_type": "stream",
     "text": [
      "Scored dataset saved with risk_score and risk_band.\n"
     ]
    }
   ],
   "source": [
    "df.to_csv(\"../data/ibm_telco_scored.csv\", index=False)\n",
    "print(\"Scored dataset saved with risk_score and risk_band.\")"
   ]
  }
 ],
 "metadata": {
  "kernelspec": {
   "display_name": "Python 3",
   "language": "python",
   "name": "python3"
  },
  "language_info": {
   "codemirror_mode": {
    "name": "ipython",
    "version": 3
   },
   "file_extension": ".py",
   "mimetype": "text/x-python",
   "name": "python",
   "nbconvert_exporter": "python",
   "pygments_lexer": "ipython3",
   "version": "3.11.7"
  }
 },
 "nbformat": 4,
 "nbformat_minor": 5
}
